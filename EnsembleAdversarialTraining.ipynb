{
 "cells": [
  {
   "cell_type": "code",
   "execution_count": 1,
   "metadata": {
    "id": "W6kgq2xB0Gmy"
   },
   "outputs": [],
   "source": [
    "import os\n",
    "import time\n",
    "import copy\n",
    "import torch\n",
    "import torch.nn as nn\n",
    "import torch.optim as optim\n",
    "import torch.nn.functional as F\n",
    "import numpy as np\n",
    "import torch.utils.data as td\n",
    "import random, time\n",
    "import matplotlib.pyplot as plt\n",
    "import torchvision\n",
    "import PIL.Image as Image\n",
    "from tqdm import tqdm\n",
    "from torch.autograd import Variable\n",
    "from torchvision import datasets, transforms\n",
    "from torch.utils.data.sampler import SubsetRandomSampler\n",
    "import torchvision.utils as vutils\n",
    "device = torch.device(\"cuda\") if torch.cuda.is_available() else torch.device(\"cpu\")"
   ]
  },
  {
   "cell_type": "code",
   "execution_count": 2,
   "metadata": {
    "colab": {
     "base_uri": "https://localhost:8080/"
    },
    "id": "x9HiUpRM0Swb",
    "outputId": "a92e33da-be2e-459d-b698-ee65af704ecd"
   },
   "outputs": [
    {
     "data": {
      "text/plain": [
       "VGG(\n",
       "  (features): Sequential(\n",
       "    (0): Conv2d(3, 64, kernel_size=(3, 3), stride=(1, 1), padding=(1, 1))\n",
       "    (1): BatchNorm2d(64, eps=1e-05, momentum=0.1, affine=True, track_running_stats=True)\n",
       "    (2): ReLU(inplace=True)\n",
       "    (3): MaxPool2d(kernel_size=2, stride=2, padding=0, dilation=1, ceil_mode=False)\n",
       "    (4): Conv2d(64, 128, kernel_size=(3, 3), stride=(1, 1), padding=(1, 1))\n",
       "    (5): BatchNorm2d(128, eps=1e-05, momentum=0.1, affine=True, track_running_stats=True)\n",
       "    (6): ReLU(inplace=True)\n",
       "    (7): MaxPool2d(kernel_size=2, stride=2, padding=0, dilation=1, ceil_mode=False)\n",
       "    (8): Conv2d(128, 256, kernel_size=(3, 3), stride=(1, 1), padding=(1, 1))\n",
       "    (9): BatchNorm2d(256, eps=1e-05, momentum=0.1, affine=True, track_running_stats=True)\n",
       "    (10): ReLU(inplace=True)\n",
       "    (11): Conv2d(256, 256, kernel_size=(3, 3), stride=(1, 1), padding=(1, 1))\n",
       "    (12): BatchNorm2d(256, eps=1e-05, momentum=0.1, affine=True, track_running_stats=True)\n",
       "    (13): ReLU(inplace=True)\n",
       "    (14): MaxPool2d(kernel_size=2, stride=2, padding=0, dilation=1, ceil_mode=False)\n",
       "    (15): Conv2d(256, 512, kernel_size=(3, 3), stride=(1, 1), padding=(1, 1))\n",
       "    (16): BatchNorm2d(512, eps=1e-05, momentum=0.1, affine=True, track_running_stats=True)\n",
       "    (17): ReLU(inplace=True)\n",
       "    (18): Conv2d(512, 512, kernel_size=(3, 3), stride=(1, 1), padding=(1, 1))\n",
       "    (19): BatchNorm2d(512, eps=1e-05, momentum=0.1, affine=True, track_running_stats=True)\n",
       "    (20): ReLU(inplace=True)\n",
       "    (21): MaxPool2d(kernel_size=2, stride=2, padding=0, dilation=1, ceil_mode=False)\n",
       "    (22): Conv2d(512, 512, kernel_size=(3, 3), stride=(1, 1), padding=(1, 1))\n",
       "    (23): BatchNorm2d(512, eps=1e-05, momentum=0.1, affine=True, track_running_stats=True)\n",
       "    (24): ReLU(inplace=True)\n",
       "    (25): Conv2d(512, 512, kernel_size=(3, 3), stride=(1, 1), padding=(1, 1))\n",
       "    (26): BatchNorm2d(512, eps=1e-05, momentum=0.1, affine=True, track_running_stats=True)\n",
       "    (27): ReLU(inplace=True)\n",
       "    (28): MaxPool2d(kernel_size=2, stride=2, padding=0, dilation=1, ceil_mode=False)\n",
       "  )\n",
       "  (avgpool): AdaptiveAvgPool2d(output_size=(1, 1))\n",
       "  (classifier): Sequential(\n",
       "    (0): Linear(in_features=512, out_features=4096, bias=True)\n",
       "    (1): ReLU(inplace=True)\n",
       "    (2): Dropout(p=0.5, inplace=False)\n",
       "    (3): Linear(in_features=4096, out_features=4096, bias=True)\n",
       "    (4): ReLU(inplace=True)\n",
       "    (5): Dropout(p=0.5, inplace=False)\n",
       "    (6): Linear(in_features=4096, out_features=10, bias=True)\n",
       "  )\n",
       ")"
      ]
     },
     "execution_count": 2,
     "metadata": {},
     "output_type": "execute_result"
    }
   ],
   "source": [
    "from vgg import vgg11_bn\n",
    "vgg11 = vgg11_bn()\n",
    "vgg11.load_state_dict(torch.load('./state_dicts/vgg11_bn.pt'))\n",
    "vgg11.to(device)"
   ]
  },
  {
   "cell_type": "code",
   "execution_count": 22,
   "metadata": {
    "id": "5zTVL1FS1HA0"
   },
   "outputs": [],
   "source": [
    "## CREATING THE DATALOADER\n",
    "\n",
    "# os.chdir('/content/drive/MyDrive/Final Project/Adversarial Examples')\n",
    "\n",
    "import pickle\n",
    "\n",
    "perturbed_list = []\n",
    "pert_label_list = []\n",
    "\n",
    "for i in [1, 2, 3]:\n",
    "    file = open(f\"AT_perturbed_imgs_combo_{i}.pkl\", 'rb')\n",
    "    perturbed_list.append(pickle.load(file))\n",
    "    file.close()\n",
    "\n",
    "    file = open(f\"AT_labels_combo_{i}.pkl\", 'rb')\n",
    "    pert_label_list.append(pickle.load(file))\n",
    "    file.close()"
   ]
  },
  {
   "cell_type": "code",
   "execution_count": 23,
   "metadata": {
    "colab": {
     "base_uri": "https://localhost:8080/"
    },
    "id": "jOCIwnUr2fHD",
    "outputId": "4762d7cf-69ce-4a66-b1a2-a5b081fbfe71"
   },
   "outputs": [
    {
     "data": {
      "text/plain": [
       "3"
      ]
     },
     "execution_count": 23,
     "metadata": {},
     "output_type": "execute_result"
    }
   ],
   "source": [
    "len(perturbed_list)"
   ]
  },
  {
   "cell_type": "code",
   "execution_count": 36,
   "metadata": {},
   "outputs": [
    {
     "name": "stdout",
     "output_type": "stream",
     "text": [
      "1000\n",
      "1000\n"
     ]
    }
   ],
   "source": [
    "len(perturbed_list[0])\n",
    "print(len(perturbed_list[1]))\n",
    "print(len(perturbed_list[2]))"
   ]
  },
  {
   "cell_type": "code",
   "execution_count": 25,
   "metadata": {
    "colab": {
     "base_uri": "https://localhost:8080/"
    },
    "id": "R47-AMR-zS9V",
    "outputId": "34cc24f6-fec0-4ce6-eef7-e4ffdf7d85a8"
   },
   "outputs": [
    {
     "data": {
      "text/plain": [
       "2"
      ]
     },
     "execution_count": 25,
     "metadata": {},
     "output_type": "execute_result"
    }
   ],
   "source": [
    "len(perturbed_list[0][0])"
   ]
  },
  {
   "cell_type": "code",
   "execution_count": 37,
   "metadata": {
    "id": "CyIebWL81unJ"
   },
   "outputs": [],
   "source": [
    "flat_pert_imgs = []\n",
    "\n",
    "for i in range(3):\n",
    "  if type(perturbed_list[i]) is list:\n",
    "    for x, (data) in enumerate(perturbed_list[i]):\n",
    "      flat_pert_imgs.append(data[0])\n",
    "\n",
    "\n",
    "    "
   ]
  },
  {
   "cell_type": "code",
   "execution_count": 38,
   "metadata": {
    "colab": {
     "base_uri": "https://localhost:8080/"
    },
    "id": "hEb-js7505Aw",
    "outputId": "a49c3e78-0ed1-4fa5-eeb9-86da9bf1de3d"
   },
   "outputs": [
    {
     "data": {
      "text/plain": [
       "3000"
      ]
     },
     "execution_count": 38,
     "metadata": {},
     "output_type": "execute_result"
    }
   ],
   "source": [
    "len(flat_pert_imgs)"
   ]
  },
  {
   "cell_type": "code",
   "execution_count": 39,
   "metadata": {
    "colab": {
     "base_uri": "https://localhost:8080/"
    },
    "id": "wp1bAK6s1AFt",
    "outputId": "c1036487-7462-4945-d71a-9965ba44d880"
   },
   "outputs": [
    {
     "data": {
      "text/plain": [
       "50"
      ]
     },
     "execution_count": 39,
     "metadata": {},
     "output_type": "execute_result"
    }
   ],
   "source": [
    "len(flat_pert_imgs[0])\n"
   ]
  },
  {
   "cell_type": "code",
   "execution_count": 42,
   "metadata": {},
   "outputs": [],
   "source": [
    "# flat_pert_imgs[0]"
   ]
  },
  {
   "cell_type": "code",
   "execution_count": 43,
   "metadata": {
    "colab": {
     "base_uri": "https://localhost:8080/"
    },
    "id": "r6ov36XO1UMx",
    "outputId": "195cddf6-4a43-4dc0-f3b3-4e06c22268ea"
   },
   "outputs": [
    {
     "data": {
      "text/plain": [
       "3"
      ]
     },
     "execution_count": 43,
     "metadata": {},
     "output_type": "execute_result"
    }
   ],
   "source": [
    "len(pert_label_list)"
   ]
  },
  {
   "cell_type": "code",
   "execution_count": 45,
   "metadata": {
    "id": "k6Wvtv1Y1a1Q"
   },
   "outputs": [],
   "source": [
    "flat_pert_labels = []\n",
    "\n",
    "for i in range(3):\n",
    "  if type(pert_label_list[i]) is list:\n",
    "    for x, (label) in enumerate(pert_label_list[i]):\n",
    "      flat_pert_labels.append(label)"
   ]
  },
  {
   "cell_type": "code",
   "execution_count": 46,
   "metadata": {
    "colab": {
     "base_uri": "https://localhost:8080/"
    },
    "id": "QOWsJn8w1rbf",
    "outputId": "86aff65f-2eab-44d0-918b-37253a53f29a"
   },
   "outputs": [
    {
     "data": {
      "text/plain": [
       "50"
      ]
     },
     "execution_count": 46,
     "metadata": {},
     "output_type": "execute_result"
    }
   ],
   "source": [
    "len(flat_pert_labels[0])"
   ]
  },
  {
   "cell_type": "code",
   "execution_count": 47,
   "metadata": {
    "id": "DgEv7tPl2Vsi"
   },
   "outputs": [],
   "source": [
    "# To create the dataset\n",
    "\n",
    "from torch.utils.data import DataLoader, Dataset\n",
    "\n",
    "class CustomImageDataset(Dataset):\n",
    "    def __init__(self, labels, images, transform=None, target_transform=None):\n",
    "        self.labels = labels\n",
    "        self.images = images\n",
    "        self.transform = transform\n",
    "        self.target_transform = target_transform\n",
    "\n",
    "    def __len__(self):\n",
    "        return len(self.labels)\n",
    "\n",
    "    def __getitem__(self, idx):\n",
    "        label = self.labels[idx]\n",
    "        image = self.images[idx]\n",
    "        return image, label"
   ]
  },
  {
   "cell_type": "code",
   "execution_count": 49,
   "metadata": {
    "id": "UYN0Dbfa2KCJ"
   },
   "outputs": [],
   "source": [
    "mini_ds = CustomImageDataset(flat_pert_labels, flat_pert_imgs)\n",
    "mini_loader = torch.utils.data.DataLoader(mini_ds, batch_size = 1, shuffle = True)"
   ]
  },
  {
   "cell_type": "code",
   "execution_count": 51,
   "metadata": {
    "colab": {
     "base_uri": "https://localhost:8080/"
    },
    "id": "ouz14-8H2ds_",
    "outputId": "938f1430-d2e1-47e4-eac7-f0ac2b2a017b"
   },
   "outputs": [
    {
     "name": "stdout",
     "output_type": "stream",
     "text": [
      "3000\n"
     ]
    }
   ],
   "source": [
    "print(len(mini_loader.dataset))"
   ]
  },
  {
   "cell_type": "code",
   "execution_count": 52,
   "metadata": {
    "colab": {
     "base_uri": "https://localhost:8080/"
    },
    "id": "q_PSvuX22mtL",
    "outputId": "c972c697-4f6f-4d10-9ed4-88ea6c672736"
   },
   "outputs": [
    {
     "name": "stdout",
     "output_type": "stream",
     "text": [
      "3000\n"
     ]
    }
   ],
   "source": [
    "print(len(mini_loader))"
   ]
  },
  {
   "cell_type": "code",
   "execution_count": 53,
   "metadata": {},
   "outputs": [
    {
     "name": "stdout",
     "output_type": "stream",
     "text": [
      "Files already downloaded and verified\n"
     ]
    }
   ],
   "source": [
    "batch_size_cifar = 50\n",
    "\n",
    "def cifar_loaders(batch_size, shuffle_test=False): \n",
    "    data_dir = './data'\n",
    "    train = datasets.CIFAR10(data_dir, train=True, download=True, \n",
    "        transform=transforms.Compose([\n",
    "            transforms.ToTensor(),\n",
    "        ]))\n",
    "    # Once you have downloaded the data by setting download=True, you can\n",
    "    # change download=True to download=False\n",
    "    test = datasets.CIFAR10(data_dir, train=False, \n",
    "        transform=transforms.Compose([transforms.ToTensor()]))\n",
    "    train_loader = torch.utils.data.DataLoader(train, batch_size=batch_size,\n",
    "        shuffle=True, pin_memory=True)\n",
    "    test_loader = torch.utils.data.DataLoader(test, batch_size=batch_size,\n",
    "        shuffle=shuffle_test, pin_memory=True)\n",
    "    return train_loader, test_loader\n",
    "\n",
    "train_cifar_loader, test_cifar_loader = cifar_loaders(batch_size_cifar)"
   ]
  },
  {
   "cell_type": "code",
   "execution_count": 54,
   "metadata": {},
   "outputs": [],
   "source": [
    "def adversarial_update(images,labels, model,loss, epsilon, step_size, n_iter):\n",
    "  delta = torch.zeros(images.size()).to(device)\n",
    "  image_mod = (images+delta)\n",
    "  for i in range(n_iter):\n",
    "    image_mod.requires_grad = True\n",
    "    preds = model(image_mod)\n",
    "    loss_val = loss(preds,labels)\n",
    "    if i == 0:\n",
    "      standard_loss = loss_val.item()\n",
    "    loss_val.backward()\n",
    "    gradient = torch.sign(image_mod.grad.data)\n",
    "    delta = delta + step_size*gradient\n",
    "    delta = delta.clamp(min=-epsilon, max=epsilon)\n",
    "    image_mod = (images+delta).clamp(min=0,max=1)\n",
    "  return (image_mod, standard_loss)"
   ]
  },
  {
   "cell_type": "code",
   "execution_count": 56,
   "metadata": {
    "colab": {
     "base_uri": "https://localhost:8080/"
    },
    "id": "yFap7fOf1FcI",
    "outputId": "f996cef3-9020-4a80-fb89-a569b319c2d0"
   },
   "outputs": [
    {
     "name": "stdout",
     "output_type": "stream",
     "text": [
      "Completing epoch:  0\n"
     ]
    },
    {
     "name": "stderr",
     "output_type": "stream",
     "text": [
      "100%|██████████| 1000/1000 [01:30<00:00, 11.10it/s]\n",
      "100%|██████████| 3000/3000 [00:50<00:00, 59.70it/s]\n"
     ]
    },
    {
     "name": "stdout",
     "output_type": "stream",
     "text": [
      "Epoch completed in:  2.3391122619311013  minutes\n",
      "Epoch 0: Adversarial Loss - 0.898, Loss - 0.0\n",
      "Completing epoch:  1\n"
     ]
    },
    {
     "name": "stderr",
     "output_type": "stream",
     "text": [
      "100%|██████████| 1000/1000 [01:30<00:00, 11.10it/s]\n",
      "100%|██████████| 3000/3000 [00:50<00:00, 59.71it/s]\n"
     ]
    },
    {
     "name": "stdout",
     "output_type": "stream",
     "text": [
      "Epoch completed in:  2.3390566666920978  minutes\n",
      "Epoch 1: Adversarial Loss - 0.721, Loss - 0.0\n",
      "Completing epoch:  2\n"
     ]
    },
    {
     "name": "stderr",
     "output_type": "stream",
     "text": [
      "100%|██████████| 1000/1000 [01:30<00:00, 11.11it/s]\n",
      "100%|██████████| 3000/3000 [00:50<00:00, 59.70it/s]\n"
     ]
    },
    {
     "name": "stdout",
     "output_type": "stream",
     "text": [
      "Epoch completed in:  2.3381556550661724  minutes\n",
      "Epoch 2: Adversarial Loss - 0.655, Loss - 0.0\n",
      "Completing epoch:  3\n"
     ]
    },
    {
     "name": "stderr",
     "output_type": "stream",
     "text": [
      "100%|██████████| 1000/1000 [01:30<00:00, 11.10it/s]\n",
      "100%|██████████| 3000/3000 [00:50<00:00, 59.70it/s]\n"
     ]
    },
    {
     "name": "stdout",
     "output_type": "stream",
     "text": [
      "Epoch completed in:  2.339390842119853  minutes\n",
      "Epoch 3: Adversarial Loss - 0.609, Loss - 0.0\n",
      "Completing epoch:  4\n"
     ]
    },
    {
     "name": "stderr",
     "output_type": "stream",
     "text": [
      "100%|██████████| 1000/1000 [01:30<00:00, 11.11it/s]\n",
      "100%|██████████| 3000/3000 [00:50<00:00, 59.71it/s]\n"
     ]
    },
    {
     "name": "stdout",
     "output_type": "stream",
     "text": [
      "Epoch completed in:  2.337975482145945  minutes\n",
      "Epoch 4: Adversarial Loss - 0.574, Loss - 0.0\n",
      "Completing epoch:  5\n"
     ]
    },
    {
     "name": "stderr",
     "output_type": "stream",
     "text": [
      "100%|██████████| 1000/1000 [01:30<00:00, 11.11it/s]\n",
      "100%|██████████| 3000/3000 [00:50<00:00, 59.71it/s]\n"
     ]
    },
    {
     "name": "stdout",
     "output_type": "stream",
     "text": [
      "Epoch completed in:  2.337942882378896  minutes\n",
      "Epoch 5: Adversarial Loss - 0.54, Loss - 0.0\n",
      "Completing epoch:  6\n"
     ]
    },
    {
     "name": "stderr",
     "output_type": "stream",
     "text": [
      "100%|██████████| 1000/1000 [01:30<00:00, 11.11it/s]\n",
      "100%|██████████| 3000/3000 [00:50<00:00, 59.72it/s]\n"
     ]
    },
    {
     "name": "stdout",
     "output_type": "stream",
     "text": [
      "Epoch completed in:  2.338078753153483  minutes\n",
      "Epoch 6: Adversarial Loss - 0.506, Loss - 0.0\n",
      "Completing epoch:  7\n"
     ]
    },
    {
     "name": "stderr",
     "output_type": "stream",
     "text": [
      "100%|██████████| 1000/1000 [01:30<00:00, 11.11it/s]\n",
      "100%|██████████| 3000/3000 [00:50<00:00, 59.69it/s]\n"
     ]
    },
    {
     "name": "stdout",
     "output_type": "stream",
     "text": [
      "Epoch completed in:  2.3384108940760293  minutes\n",
      "Epoch 7: Adversarial Loss - 0.477, Loss - 0.0\n",
      "Completing epoch:  8\n"
     ]
    },
    {
     "name": "stderr",
     "output_type": "stream",
     "text": [
      "100%|██████████| 1000/1000 [01:30<00:00, 11.10it/s]\n",
      "100%|██████████| 3000/3000 [00:50<00:00, 59.69it/s]\n"
     ]
    },
    {
     "name": "stdout",
     "output_type": "stream",
     "text": [
      "Epoch completed in:  2.338813904921214  minutes\n",
      "Epoch 8: Adversarial Loss - 0.446, Loss - 0.0\n",
      "Completing epoch:  9\n"
     ]
    },
    {
     "name": "stderr",
     "output_type": "stream",
     "text": [
      "100%|██████████| 1000/1000 [01:30<00:00, 11.10it/s]\n",
      "100%|██████████| 3000/3000 [00:50<00:00, 59.73it/s]\n"
     ]
    },
    {
     "name": "stdout",
     "output_type": "stream",
     "text": [
      "Epoch completed in:  2.338944180806478  minutes\n",
      "Epoch 9: Adversarial Loss - 0.422, Loss - 0.0\n",
      "Completing epoch:  10\n"
     ]
    },
    {
     "name": "stderr",
     "output_type": "stream",
     "text": [
      "100%|██████████| 1000/1000 [01:30<00:00, 11.11it/s]\n",
      "100%|██████████| 3000/3000 [00:50<00:00, 59.71it/s]\n"
     ]
    },
    {
     "name": "stdout",
     "output_type": "stream",
     "text": [
      "Epoch completed in:  2.3379445314407348  minutes\n",
      "Epoch 10: Adversarial Loss - 0.403, Loss - 0.0\n",
      "Completing epoch:  11\n"
     ]
    },
    {
     "name": "stderr",
     "output_type": "stream",
     "text": [
      "100%|██████████| 1000/1000 [01:30<00:00, 11.11it/s]\n",
      "100%|██████████| 3000/3000 [00:50<00:00, 59.72it/s]\n"
     ]
    },
    {
     "name": "stdout",
     "output_type": "stream",
     "text": [
      "Epoch completed in:  2.337811013062795  minutes\n",
      "Epoch 11: Adversarial Loss - 0.383, Loss - 0.0\n",
      "Completing epoch:  12\n"
     ]
    },
    {
     "name": "stderr",
     "output_type": "stream",
     "text": [
      "100%|██████████| 1000/1000 [01:30<00:00, 11.10it/s]\n",
      "100%|██████████| 3000/3000 [00:50<00:00, 59.69it/s]\n"
     ]
    },
    {
     "name": "stdout",
     "output_type": "stream",
     "text": [
      "Epoch completed in:  2.3386464953422545  minutes\n",
      "Epoch 12: Adversarial Loss - 0.36, Loss - 0.0\n",
      "Completing epoch:  13\n"
     ]
    },
    {
     "name": "stderr",
     "output_type": "stream",
     "text": [
      "100%|██████████| 1000/1000 [01:30<00:00, 11.10it/s]\n",
      "100%|██████████| 3000/3000 [00:50<00:00, 59.70it/s]\n"
     ]
    },
    {
     "name": "stdout",
     "output_type": "stream",
     "text": [
      "Epoch completed in:  2.338677255312602  minutes\n",
      "Epoch 13: Adversarial Loss - 0.347, Loss - 0.0\n",
      "Completing epoch:  14\n"
     ]
    },
    {
     "name": "stderr",
     "output_type": "stream",
     "text": [
      "100%|██████████| 1000/1000 [01:30<00:00, 11.10it/s]\n",
      "100%|██████████| 3000/3000 [00:50<00:00, 59.70it/s]\n"
     ]
    },
    {
     "name": "stdout",
     "output_type": "stream",
     "text": [
      "Epoch completed in:  2.3387369871139527  minutes\n",
      "Epoch 14: Adversarial Loss - 0.332, Loss - 0.0\n",
      "Completing epoch:  15\n"
     ]
    },
    {
     "name": "stderr",
     "output_type": "stream",
     "text": [
      "100%|██████████| 1000/1000 [01:30<00:00, 11.09it/s]\n",
      "100%|██████████| 3000/3000 [00:50<00:00, 59.71it/s]\n"
     ]
    },
    {
     "name": "stdout",
     "output_type": "stream",
     "text": [
      "Epoch completed in:  2.339696244398753  minutes\n",
      "Epoch 15: Adversarial Loss - 0.317, Loss - 0.0\n",
      "Completing epoch:  16\n"
     ]
    },
    {
     "name": "stderr",
     "output_type": "stream",
     "text": [
      "100%|██████████| 1000/1000 [01:30<00:00, 11.10it/s]\n",
      "100%|██████████| 3000/3000 [00:50<00:00, 59.71it/s]\n"
     ]
    },
    {
     "name": "stdout",
     "output_type": "stream",
     "text": [
      "Epoch completed in:  2.338262701034546  minutes\n",
      "Epoch 16: Adversarial Loss - 0.307, Loss - 0.0\n",
      "Completing epoch:  17\n"
     ]
    },
    {
     "name": "stderr",
     "output_type": "stream",
     "text": [
      "100%|██████████| 1000/1000 [01:30<00:00, 11.10it/s]\n",
      "100%|██████████| 3000/3000 [00:50<00:00, 59.71it/s]\n"
     ]
    },
    {
     "name": "stdout",
     "output_type": "stream",
     "text": [
      "Epoch completed in:  2.3383930722872415  minutes\n",
      "Epoch 17: Adversarial Loss - 0.293, Loss - 0.0\n",
      "Completing epoch:  18\n"
     ]
    },
    {
     "name": "stderr",
     "output_type": "stream",
     "text": [
      "100%|██████████| 1000/1000 [01:30<00:00, 11.10it/s]\n",
      "100%|██████████| 3000/3000 [00:50<00:00, 59.71it/s]\n"
     ]
    },
    {
     "name": "stdout",
     "output_type": "stream",
     "text": [
      "Epoch completed in:  2.338602189222972  minutes\n",
      "Epoch 18: Adversarial Loss - 0.287, Loss - 0.0\n",
      "Completing epoch:  19\n"
     ]
    },
    {
     "name": "stderr",
     "output_type": "stream",
     "text": [
      "100%|██████████| 1000/1000 [01:30<00:00, 11.10it/s]\n",
      "100%|██████████| 3000/3000 [00:50<00:00, 59.70it/s]\n"
     ]
    },
    {
     "name": "stdout",
     "output_type": "stream",
     "text": [
      "Epoch completed in:  2.3390568494796753  minutes\n",
      "Epoch 19: Adversarial Loss - 0.27, Loss - 0.0\n",
      "Completing epoch:  20\n"
     ]
    },
    {
     "name": "stderr",
     "output_type": "stream",
     "text": [
      "100%|██████████| 1000/1000 [01:30<00:00, 11.09it/s]\n",
      "100%|██████████| 3000/3000 [00:50<00:00, 59.69it/s]\n"
     ]
    },
    {
     "name": "stdout",
     "output_type": "stream",
     "text": [
      "Epoch completed in:  2.340111525853475  minutes\n",
      "Epoch 20: Adversarial Loss - 0.268, Loss - 0.0\n",
      "Completing epoch:  21\n"
     ]
    },
    {
     "name": "stderr",
     "output_type": "stream",
     "text": [
      "100%|██████████| 1000/1000 [01:30<00:00, 11.09it/s]\n",
      "100%|██████████| 3000/3000 [00:50<00:00, 59.69it/s]\n"
     ]
    },
    {
     "name": "stdout",
     "output_type": "stream",
     "text": [
      "Epoch completed in:  2.341047461827596  minutes\n",
      "Epoch 21: Adversarial Loss - 0.259, Loss - 0.0\n",
      "Completing epoch:  22\n"
     ]
    },
    {
     "name": "stderr",
     "output_type": "stream",
     "text": [
      "100%|██████████| 1000/1000 [01:30<00:00, 11.10it/s]\n",
      "100%|██████████| 3000/3000 [00:50<00:00, 59.70it/s]\n"
     ]
    },
    {
     "name": "stdout",
     "output_type": "stream",
     "text": [
      "Epoch completed in:  2.339673586686452  minutes\n",
      "Epoch 22: Adversarial Loss - 0.249, Loss - 0.0\n",
      "Completing epoch:  23\n"
     ]
    },
    {
     "name": "stderr",
     "output_type": "stream",
     "text": [
      "100%|██████████| 1000/1000 [01:30<00:00, 11.10it/s]\n",
      "100%|██████████| 3000/3000 [00:50<00:00, 59.70it/s]\n"
     ]
    },
    {
     "name": "stdout",
     "output_type": "stream",
     "text": [
      "Epoch completed in:  2.339633556207021  minutes\n",
      "Epoch 23: Adversarial Loss - 0.249, Loss - 0.0\n",
      "Completing epoch:  24\n"
     ]
    },
    {
     "name": "stderr",
     "output_type": "stream",
     "text": [
      "100%|██████████| 1000/1000 [01:30<00:00, 11.09it/s]\n",
      "100%|██████████| 3000/3000 [00:50<00:00, 59.69it/s]\n"
     ]
    },
    {
     "name": "stdout",
     "output_type": "stream",
     "text": [
      "Epoch completed in:  2.3399804910024007  minutes\n",
      "Epoch 24: Adversarial Loss - 0.238, Loss - 0.0\n",
      "Completing epoch:  25\n"
     ]
    },
    {
     "name": "stderr",
     "output_type": "stream",
     "text": [
      "100%|██████████| 1000/1000 [01:30<00:00, 11.09it/s]\n",
      "100%|██████████| 3000/3000 [00:50<00:00, 59.70it/s]\n"
     ]
    },
    {
     "name": "stdout",
     "output_type": "stream",
     "text": [
      "Epoch completed in:  2.340031886100769  minutes\n",
      "Epoch 25: Adversarial Loss - 0.233, Loss - 0.0\n",
      "Completing epoch:  26\n"
     ]
    },
    {
     "name": "stderr",
     "output_type": "stream",
     "text": [
      "100%|██████████| 1000/1000 [01:30<00:00, 11.10it/s]\n",
      "100%|██████████| 3000/3000 [00:50<00:00, 59.70it/s]\n"
     ]
    },
    {
     "name": "stdout",
     "output_type": "stream",
     "text": [
      "Epoch completed in:  2.3396071712176005  minutes\n",
      "Epoch 26: Adversarial Loss - 0.228, Loss - 0.0\n",
      "Completing epoch:  27\n"
     ]
    },
    {
     "name": "stderr",
     "output_type": "stream",
     "text": [
      "100%|██████████| 1000/1000 [01:30<00:00, 11.09it/s]\n",
      "100%|██████████| 3000/3000 [00:50<00:00, 59.69it/s]\n"
     ]
    },
    {
     "name": "stdout",
     "output_type": "stream",
     "text": [
      "Epoch completed in:  2.3411923170089723  minutes\n",
      "Epoch 27: Adversarial Loss - 0.222, Loss - 0.0\n",
      "Completing epoch:  28\n"
     ]
    },
    {
     "name": "stderr",
     "output_type": "stream",
     "text": [
      "100%|██████████| 1000/1000 [01:30<00:00, 11.10it/s]\n",
      "100%|██████████| 3000/3000 [00:50<00:00, 59.68it/s]\n"
     ]
    },
    {
     "name": "stdout",
     "output_type": "stream",
     "text": [
      "Epoch completed in:  2.3398510654767355  minutes\n",
      "Epoch 28: Adversarial Loss - 0.218, Loss - 0.0\n",
      "Completing epoch:  29\n"
     ]
    },
    {
     "name": "stderr",
     "output_type": "stream",
     "text": [
      "100%|██████████| 1000/1000 [01:30<00:00, 11.09it/s]\n",
      "100%|██████████| 3000/3000 [00:50<00:00, 59.69it/s]\n"
     ]
    },
    {
     "name": "stdout",
     "output_type": "stream",
     "text": [
      "Epoch completed in:  2.340125826994578  minutes\n",
      "Epoch 29: Adversarial Loss - 0.213, Loss - 0.0\n",
      "Completing epoch:  30\n"
     ]
    },
    {
     "name": "stderr",
     "output_type": "stream",
     "text": [
      "100%|██████████| 1000/1000 [01:30<00:00, 11.09it/s]\n",
      "100%|██████████| 3000/3000 [00:50<00:00, 59.68it/s]\n"
     ]
    },
    {
     "name": "stdout",
     "output_type": "stream",
     "text": [
      "Epoch completed in:  2.340236572424571  minutes\n",
      "Epoch 30: Adversarial Loss - 0.209, Loss - 0.0\n",
      "Completing epoch:  31\n"
     ]
    },
    {
     "name": "stderr",
     "output_type": "stream",
     "text": [
      "100%|██████████| 1000/1000 [01:30<00:00, 11.09it/s]\n",
      "100%|██████████| 3000/3000 [00:50<00:00, 59.70it/s]\n"
     ]
    },
    {
     "name": "stdout",
     "output_type": "stream",
     "text": [
      "Epoch completed in:  2.339866828918457  minutes\n",
      "Epoch 31: Adversarial Loss - 0.204, Loss - 0.0\n",
      "Completing epoch:  32\n"
     ]
    },
    {
     "name": "stderr",
     "output_type": "stream",
     "text": [
      "100%|██████████| 1000/1000 [01:30<00:00, 11.09it/s]\n",
      "100%|██████████| 3000/3000 [00:50<00:00, 59.69it/s]\n"
     ]
    },
    {
     "name": "stdout",
     "output_type": "stream",
     "text": [
      "Epoch completed in:  2.3401044448216757  minutes\n",
      "Epoch 32: Adversarial Loss - 0.198, Loss - 0.0\n",
      "Completing epoch:  33\n"
     ]
    },
    {
     "name": "stderr",
     "output_type": "stream",
     "text": [
      "100%|██████████| 1000/1000 [01:30<00:00, 11.09it/s]\n",
      "100%|██████████| 3000/3000 [00:50<00:00, 59.70it/s]\n"
     ]
    },
    {
     "name": "stdout",
     "output_type": "stream",
     "text": [
      "Epoch completed in:  2.340950020154317  minutes\n",
      "Epoch 33: Adversarial Loss - 0.191, Loss - 0.0\n",
      "Completing epoch:  34\n"
     ]
    },
    {
     "name": "stderr",
     "output_type": "stream",
     "text": [
      "100%|██████████| 1000/1000 [01:30<00:00, 11.10it/s]\n",
      "100%|██████████| 3000/3000 [00:50<00:00, 59.69it/s]\n"
     ]
    },
    {
     "name": "stdout",
     "output_type": "stream",
     "text": [
      "Epoch completed in:  2.339515427748362  minutes\n",
      "Epoch 34: Adversarial Loss - 0.188, Loss - 0.0\n",
      "Completing epoch:  35\n"
     ]
    },
    {
     "name": "stderr",
     "output_type": "stream",
     "text": [
      "100%|██████████| 1000/1000 [01:30<00:00, 11.10it/s]\n",
      "100%|██████████| 3000/3000 [00:50<00:00, 59.70it/s]\n"
     ]
    },
    {
     "name": "stdout",
     "output_type": "stream",
     "text": [
      "Epoch completed in:  2.339579685529073  minutes\n",
      "Epoch 35: Adversarial Loss - 0.189, Loss - 0.0\n",
      "Completing epoch:  36\n"
     ]
    },
    {
     "name": "stderr",
     "output_type": "stream",
     "text": [
      "100%|██████████| 1000/1000 [01:30<00:00, 11.10it/s]\n",
      "100%|██████████| 3000/3000 [00:50<00:00, 59.70it/s]\n"
     ]
    },
    {
     "name": "stdout",
     "output_type": "stream",
     "text": [
      "Epoch completed in:  2.3397025585174562  minutes\n",
      "Epoch 36: Adversarial Loss - 0.181, Loss - 0.0\n",
      "Completing epoch:  37\n"
     ]
    },
    {
     "name": "stderr",
     "output_type": "stream",
     "text": [
      "100%|██████████| 1000/1000 [01:30<00:00, 11.09it/s]\n",
      "100%|██████████| 3000/3000 [00:50<00:00, 59.69it/s]\n"
     ]
    },
    {
     "name": "stdout",
     "output_type": "stream",
     "text": [
      "Epoch completed in:  2.3399280746777853  minutes\n",
      "Epoch 37: Adversarial Loss - 0.177, Loss - 0.0\n",
      "Completing epoch:  38\n"
     ]
    },
    {
     "name": "stderr",
     "output_type": "stream",
     "text": [
      "100%|██████████| 1000/1000 [01:30<00:00, 11.10it/s]\n",
      "100%|██████████| 3000/3000 [00:50<00:00, 59.69it/s]\n"
     ]
    },
    {
     "name": "stdout",
     "output_type": "stream",
     "text": [
      "Epoch completed in:  2.3394978324572246  minutes\n",
      "Epoch 38: Adversarial Loss - 0.173, Loss - 0.0\n",
      "Completing epoch:  39\n"
     ]
    },
    {
     "name": "stderr",
     "output_type": "stream",
     "text": [
      "100%|██████████| 1000/1000 [01:30<00:00, 11.09it/s]\n",
      "100%|██████████| 3000/3000 [00:50<00:00, 59.71it/s]\n"
     ]
    },
    {
     "name": "stdout",
     "output_type": "stream",
     "text": [
      "Epoch completed in:  2.3406254291534423  minutes\n",
      "Epoch 39: Adversarial Loss - 0.172, Loss - 0.0\n",
      "Completing epoch:  40\n"
     ]
    },
    {
     "name": "stderr",
     "output_type": "stream",
     "text": [
      "100%|██████████| 1000/1000 [01:30<00:00, 11.10it/s]\n",
      "100%|██████████| 3000/3000 [00:50<00:00, 59.68it/s]\n"
     ]
    },
    {
     "name": "stdout",
     "output_type": "stream",
     "text": [
      "Epoch completed in:  2.3398919423421223  minutes\n",
      "Epoch 40: Adversarial Loss - 0.165, Loss - 0.0\n",
      "Completing epoch:  41\n"
     ]
    },
    {
     "name": "stderr",
     "output_type": "stream",
     "text": [
      "100%|██████████| 1000/1000 [01:30<00:00, 11.10it/s]\n",
      "100%|██████████| 3000/3000 [00:50<00:00, 59.70it/s]\n"
     ]
    },
    {
     "name": "stdout",
     "output_type": "stream",
     "text": [
      "Epoch completed in:  2.339779730637868  minutes\n",
      "Epoch 41: Adversarial Loss - 0.16, Loss - 0.0\n",
      "Completing epoch:  42\n"
     ]
    },
    {
     "name": "stderr",
     "output_type": "stream",
     "text": [
      "100%|██████████| 1000/1000 [01:30<00:00, 11.09it/s]\n",
      "100%|██████████| 3000/3000 [00:50<00:00, 59.69it/s]\n"
     ]
    },
    {
     "name": "stdout",
     "output_type": "stream",
     "text": [
      "Epoch completed in:  2.339932115872701  minutes\n",
      "Epoch 42: Adversarial Loss - 0.162, Loss - 0.0\n",
      "Completing epoch:  43\n"
     ]
    },
    {
     "name": "stderr",
     "output_type": "stream",
     "text": [
      "100%|██████████| 1000/1000 [01:30<00:00, 11.09it/s]\n",
      "100%|██████████| 3000/3000 [00:50<00:00, 59.70it/s]\n"
     ]
    },
    {
     "name": "stdout",
     "output_type": "stream",
     "text": [
      "Epoch completed in:  2.3398797035217287  minutes\n",
      "Epoch 43: Adversarial Loss - 0.158, Loss - 0.0\n",
      "Completing epoch:  44\n"
     ]
    },
    {
     "name": "stderr",
     "output_type": "stream",
     "text": [
      "100%|██████████| 1000/1000 [01:30<00:00, 11.10it/s]\n",
      "100%|██████████| 3000/3000 [00:50<00:00, 59.70it/s]\n"
     ]
    },
    {
     "name": "stdout",
     "output_type": "stream",
     "text": [
      "Epoch completed in:  2.3397210081418356  minutes\n",
      "Epoch 44: Adversarial Loss - 0.155, Loss - 0.0\n",
      "Completing epoch:  45\n"
     ]
    },
    {
     "name": "stderr",
     "output_type": "stream",
     "text": [
      "100%|██████████| 1000/1000 [01:30<00:00, 11.09it/s]\n",
      "100%|██████████| 3000/3000 [00:50<00:00, 59.69it/s]\n"
     ]
    },
    {
     "name": "stdout",
     "output_type": "stream",
     "text": [
      "Epoch completed in:  2.3410976688067118  minutes\n",
      "Epoch 45: Adversarial Loss - 0.151, Loss - 0.0\n",
      "Completing epoch:  46\n"
     ]
    },
    {
     "name": "stderr",
     "output_type": "stream",
     "text": [
      "100%|██████████| 1000/1000 [01:30<00:00, 11.09it/s]\n",
      "100%|██████████| 3000/3000 [00:50<00:00, 59.70it/s]\n"
     ]
    },
    {
     "name": "stdout",
     "output_type": "stream",
     "text": [
      "Epoch completed in:  2.3397249658902486  minutes\n",
      "Epoch 46: Adversarial Loss - 0.149, Loss - 0.0\n",
      "Completing epoch:  47\n"
     ]
    },
    {
     "name": "stderr",
     "output_type": "stream",
     "text": [
      "100%|██████████| 1000/1000 [01:30<00:00, 11.10it/s]\n",
      "100%|██████████| 3000/3000 [00:50<00:00, 59.68it/s]\n"
     ]
    },
    {
     "name": "stdout",
     "output_type": "stream",
     "text": [
      "Epoch completed in:  2.3398550470670063  minutes\n",
      "Epoch 47: Adversarial Loss - 0.148, Loss - 0.0\n",
      "Completing epoch:  48\n"
     ]
    },
    {
     "name": "stderr",
     "output_type": "stream",
     "text": [
      "100%|██████████| 1000/1000 [01:30<00:00, 11.10it/s]\n",
      "100%|██████████| 3000/3000 [00:50<00:00, 59.68it/s]\n"
     ]
    },
    {
     "name": "stdout",
     "output_type": "stream",
     "text": [
      "Epoch completed in:  2.339967970053355  minutes\n",
      "Epoch 48: Adversarial Loss - 0.144, Loss - 0.0\n",
      "Completing epoch:  49\n"
     ]
    },
    {
     "name": "stderr",
     "output_type": "stream",
     "text": [
      "100%|██████████| 1000/1000 [01:30<00:00, 11.09it/s]\n",
      "100%|██████████| 3000/3000 [00:50<00:00, 59.64it/s]\n"
     ]
    },
    {
     "name": "stdout",
     "output_type": "stream",
     "text": [
      "Epoch completed in:  2.3409530957539877  minutes\n",
      "Epoch 49: Adversarial Loss - 0.14, Loss - 0.0\n",
      "Completing epoch:  50\n"
     ]
    },
    {
     "name": "stderr",
     "output_type": "stream",
     "text": [
      "100%|██████████| 1000/1000 [01:30<00:00, 11.09it/s]\n",
      "100%|██████████| 3000/3000 [00:50<00:00, 59.69it/s]\n"
     ]
    },
    {
     "name": "stdout",
     "output_type": "stream",
     "text": [
      "Epoch completed in:  2.340080201625824  minutes\n",
      "Epoch 50: Adversarial Loss - 0.14, Loss - 0.0\n",
      "Completing epoch:  51\n"
     ]
    },
    {
     "name": "stderr",
     "output_type": "stream",
     "text": [
      "100%|██████████| 1000/1000 [01:30<00:00, 11.08it/s]\n",
      "100%|██████████| 3000/3000 [00:50<00:00, 59.70it/s]\n"
     ]
    },
    {
     "name": "stdout",
     "output_type": "stream",
     "text": [
      "Epoch completed in:  2.341230575243632  minutes\n",
      "Epoch 51: Adversarial Loss - 0.136, Loss - 0.0\n",
      "Completing epoch:  52\n"
     ]
    },
    {
     "name": "stderr",
     "output_type": "stream",
     "text": [
      "100%|██████████| 1000/1000 [01:30<00:00, 11.10it/s]\n",
      "100%|██████████| 3000/3000 [00:50<00:00, 59.69it/s]\n"
     ]
    },
    {
     "name": "stdout",
     "output_type": "stream",
     "text": [
      "Epoch completed in:  2.339584151903788  minutes\n",
      "Epoch 52: Adversarial Loss - 0.136, Loss - 0.0\n",
      "Completing epoch:  53\n"
     ]
    },
    {
     "name": "stderr",
     "output_type": "stream",
     "text": [
      "100%|██████████| 1000/1000 [01:30<00:00, 11.10it/s]\n",
      "100%|██████████| 3000/3000 [00:50<00:00, 59.70it/s]\n"
     ]
    },
    {
     "name": "stdout",
     "output_type": "stream",
     "text": [
      "Epoch completed in:  2.339694003264109  minutes\n",
      "Epoch 53: Adversarial Loss - 0.134, Loss - 0.0\n",
      "Completing epoch:  54\n"
     ]
    },
    {
     "name": "stderr",
     "output_type": "stream",
     "text": [
      "100%|██████████| 1000/1000 [01:30<00:00, 11.09it/s]\n",
      "100%|██████████| 3000/3000 [00:50<00:00, 59.70it/s]\n"
     ]
    },
    {
     "name": "stdout",
     "output_type": "stream",
     "text": [
      "Epoch completed in:  2.3398354331652325  minutes\n",
      "Epoch 54: Adversarial Loss - 0.13, Loss - 0.0\n",
      "Completing epoch:  55\n"
     ]
    },
    {
     "name": "stderr",
     "output_type": "stream",
     "text": [
      "100%|██████████| 1000/1000 [01:30<00:00, 11.09it/s]\n",
      "100%|██████████| 3000/3000 [00:50<00:00, 59.69it/s]\n"
     ]
    },
    {
     "name": "stdout",
     "output_type": "stream",
     "text": [
      "Epoch completed in:  2.3401275396347048  minutes\n",
      "Epoch 55: Adversarial Loss - 0.127, Loss - 0.0\n",
      "Completing epoch:  56\n"
     ]
    },
    {
     "name": "stderr",
     "output_type": "stream",
     "text": [
      "100%|██████████| 1000/1000 [01:30<00:00, 11.09it/s]\n",
      "100%|██████████| 3000/3000 [00:50<00:00, 59.70it/s]\n"
     ]
    },
    {
     "name": "stdout",
     "output_type": "stream",
     "text": [
      "Epoch completed in:  2.3398194432258608  minutes\n",
      "Epoch 56: Adversarial Loss - 0.13, Loss - 0.0\n",
      "Completing epoch:  57\n"
     ]
    },
    {
     "name": "stderr",
     "output_type": "stream",
     "text": [
      "100%|██████████| 1000/1000 [01:30<00:00, 11.09it/s]\n",
      "100%|██████████| 3000/3000 [00:50<00:00, 59.69it/s]\n"
     ]
    },
    {
     "name": "stdout",
     "output_type": "stream",
     "text": [
      "Epoch completed in:  2.3409550031026205  minutes\n",
      "Epoch 57: Adversarial Loss - 0.123, Loss - 0.0\n",
      "Completing epoch:  58\n"
     ]
    },
    {
     "name": "stderr",
     "output_type": "stream",
     "text": [
      "100%|██████████| 1000/1000 [01:30<00:00, 11.10it/s]\n",
      "100%|██████████| 3000/3000 [00:50<00:00, 59.70it/s]\n"
     ]
    },
    {
     "name": "stdout",
     "output_type": "stream",
     "text": [
      "Epoch completed in:  2.3395623842875164  minutes\n",
      "Epoch 58: Adversarial Loss - 0.127, Loss - 0.0\n",
      "Completing epoch:  59\n"
     ]
    },
    {
     "name": "stderr",
     "output_type": "stream",
     "text": [
      "100%|██████████| 1000/1000 [01:30<00:00, 11.10it/s]\n",
      "100%|██████████| 3000/3000 [00:50<00:00, 59.71it/s]\n"
     ]
    },
    {
     "name": "stdout",
     "output_type": "stream",
     "text": [
      "Epoch completed in:  2.3396325588226317  minutes\n",
      "Epoch 59: Adversarial Loss - 0.122, Loss - 0.0\n",
      "Completing epoch:  60\n"
     ]
    },
    {
     "name": "stderr",
     "output_type": "stream",
     "text": [
      "100%|██████████| 1000/1000 [01:30<00:00, 11.10it/s]\n",
      "100%|██████████| 3000/3000 [00:50<00:00, 59.70it/s]\n"
     ]
    },
    {
     "name": "stdout",
     "output_type": "stream",
     "text": [
      "Epoch completed in:  2.3394312222798663  minutes\n",
      "Epoch 60: Adversarial Loss - 0.122, Loss - 0.0\n",
      "Completing epoch:  61\n"
     ]
    },
    {
     "name": "stderr",
     "output_type": "stream",
     "text": [
      "100%|██████████| 1000/1000 [01:30<00:00, 11.10it/s]\n",
      "100%|██████████| 3000/3000 [00:50<00:00, 59.70it/s]\n"
     ]
    },
    {
     "name": "stdout",
     "output_type": "stream",
     "text": [
      "Epoch completed in:  2.339738869667053  minutes\n",
      "Epoch 61: Adversarial Loss - 0.121, Loss - 0.0\n",
      "Completing epoch:  62\n"
     ]
    },
    {
     "name": "stderr",
     "output_type": "stream",
     "text": [
      "100%|██████████| 1000/1000 [01:30<00:00, 11.09it/s]\n",
      "100%|██████████| 3000/3000 [00:50<00:00, 59.69it/s]\n"
     ]
    },
    {
     "name": "stdout",
     "output_type": "stream",
     "text": [
      "Epoch completed in:  2.3400957028071088  minutes\n",
      "Epoch 62: Adversarial Loss - 0.115, Loss - 0.0\n",
      "Completing epoch:  63\n"
     ]
    },
    {
     "name": "stderr",
     "output_type": "stream",
     "text": [
      "100%|██████████| 1000/1000 [01:30<00:00, 11.09it/s]\n",
      "100%|██████████| 3000/3000 [00:50<00:00, 59.69it/s]\n"
     ]
    },
    {
     "name": "stdout",
     "output_type": "stream",
     "text": [
      "Epoch completed in:  2.3408483465512595  minutes\n",
      "Epoch 63: Adversarial Loss - 0.118, Loss - 0.0\n"
     ]
    },
    {
     "data": {
      "text/plain": [
       "<All keys matched successfully>"
      ]
     },
     "execution_count": 56,
     "metadata": {},
     "output_type": "execute_result"
    }
   ],
   "source": [
    "# os.chdir('/content/drive/MyDrive/Final Project/models/state_dicts')\n",
    "from tqdm import tqdm\n",
    "import time\n",
    "\n",
    "vgg11_adv_ens = vgg11_bn()\n",
    "vgg11_adv_ens.load_state_dict(torch.load('./state_dicts/vgg11_bn.pt'))\n",
    "vgg11_adv_ens.to(device)\n",
    "\n",
    "criterion = nn.CrossEntropyLoss()\n",
    "optimizer = optim.Adam(vgg11_adv_ens.parameters(),lr=1e-5)\n",
    "num_epochs = 64\n",
    "\n",
    "loss_standard = np.zeros(num_epochs)\n",
    "loss_adv = np.zeros(num_epochs)\n",
    "\n",
    "for i in range(num_epochs):\n",
    "  start = time.time()\n",
    "  running_loss_adv = 0\n",
    "  running_loss = 0\n",
    "  print(\"Completing epoch: \", i)\n",
    "  for batch, (data, labels) in enumerate(tqdm(train_cifar_loader)):\n",
    "    data = data.to(device)\n",
    "    labels = labels.to(device)\n",
    "    optimizer.zero_grad()\n",
    "    data_mod, standard_loss = adversarial_update(data,labels, vgg11_adv_ens,criterion, epsilon=.0625, step_size=.01, n_iter=7)\n",
    "    running_loss += standard_loss\n",
    "    preds = vgg11_adv_ens(data_mod)\n",
    "    loss = criterion(preds, labels)\n",
    "    loss.backward()\n",
    "    optimizer.step()\n",
    "    running_loss_adv += loss.item()\n",
    "    batches = batch+1\n",
    "  for batch, (data, labels) in enumerate(tqdm(mini_ds)):\n",
    "    # print(\"Batch #\")\n",
    "    data = data.to(device)\n",
    "    labels = labels.to(device)\n",
    "    optimizer.zero_grad()\n",
    "    preds = vgg11_adv_ens(data)\n",
    "    loss = criterion(preds, labels)\n",
    "    loss.backward()\n",
    "    optimizer.step()\n",
    "    running_loss_adv += loss.item()\n",
    "    batches = batches+1\n",
    "  #loss_standard[i] = running_loss/batches\n",
    "  loss_adv[i] = running_loss_adv/batches\n",
    "  end = time.time()\n",
    "  print(\"Epoch completed in: \", (end - start)/60, \" minutes\" )\n",
    "  print(\"Epoch \"+str(i)+\": Adversarial Loss - \"+str(round(loss_adv[i],3))+\", Loss - \"+str(round(loss_standard[i],3)))\n",
    "torch.save(vgg11_adv_ens.state_dict(), \"./state_dicts/vgg11_adv_ens_3indiv.pt\")\n",
    "vgg11_adv_ens.load_state_dict(torch.load( \"./state_dicts/vgg11_adv_ens_3indiv.pt\"))"
   ]
  }
 ],
 "metadata": {
  "accelerator": "GPU",
  "colab": {
   "provenance": []
  },
  "gpuClass": "standard",
  "kernelspec": {
   "display_name": "Python 3 (ipykernel)",
   "language": "python",
   "name": "python3"
  },
  "language_info": {
   "codemirror_mode": {
    "name": "ipython",
    "version": 3
   },
   "file_extension": ".py",
   "mimetype": "text/x-python",
   "name": "python",
   "nbconvert_exporter": "python",
   "pygments_lexer": "ipython3",
   "version": "3.9.7"
  }
 },
 "nbformat": 4,
 "nbformat_minor": 4
}
