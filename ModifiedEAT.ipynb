{
 "cells": [
  {
   "cell_type": "code",
   "execution_count": 1,
   "metadata": {
    "id": "W6kgq2xB0Gmy"
   },
   "outputs": [],
   "source": [
    "import os\n",
    "import time\n",
    "import copy\n",
    "import torch\n",
    "import torch.nn as nn\n",
    "import torch.optim as optim\n",
    "import torch.nn.functional as F\n",
    "import numpy as np\n",
    "import torch.utils.data as td\n",
    "import random, time\n",
    "import matplotlib.pyplot as plt\n",
    "import torchvision\n",
    "import PIL.Image as Image\n",
    "from tqdm import tqdm\n",
    "from torch.autograd import Variable\n",
    "from torchvision import datasets, transforms\n",
    "from torch.utils.data.sampler import SubsetRandomSampler\n",
    "import torchvision.utils as vutils\n",
    "device = torch.device(\"cuda\") if torch.cuda.is_available() else torch.device(\"cpu\")"
   ]
  },
  {
   "cell_type": "code",
   "execution_count": 2,
   "metadata": {
    "colab": {
     "base_uri": "https://localhost:8080/"
    },
    "id": "x9HiUpRM0Swb",
    "outputId": "a92e33da-be2e-459d-b698-ee65af704ecd"
   },
   "outputs": [
    {
     "data": {
      "text/plain": [
       "VGG(\n",
       "  (features): Sequential(\n",
       "    (0): Conv2d(3, 64, kernel_size=(3, 3), stride=(1, 1), padding=(1, 1))\n",
       "    (1): BatchNorm2d(64, eps=1e-05, momentum=0.1, affine=True, track_running_stats=True)\n",
       "    (2): ReLU(inplace=True)\n",
       "    (3): MaxPool2d(kernel_size=2, stride=2, padding=0, dilation=1, ceil_mode=False)\n",
       "    (4): Conv2d(64, 128, kernel_size=(3, 3), stride=(1, 1), padding=(1, 1))\n",
       "    (5): BatchNorm2d(128, eps=1e-05, momentum=0.1, affine=True, track_running_stats=True)\n",
       "    (6): ReLU(inplace=True)\n",
       "    (7): MaxPool2d(kernel_size=2, stride=2, padding=0, dilation=1, ceil_mode=False)\n",
       "    (8): Conv2d(128, 256, kernel_size=(3, 3), stride=(1, 1), padding=(1, 1))\n",
       "    (9): BatchNorm2d(256, eps=1e-05, momentum=0.1, affine=True, track_running_stats=True)\n",
       "    (10): ReLU(inplace=True)\n",
       "    (11): Conv2d(256, 256, kernel_size=(3, 3), stride=(1, 1), padding=(1, 1))\n",
       "    (12): BatchNorm2d(256, eps=1e-05, momentum=0.1, affine=True, track_running_stats=True)\n",
       "    (13): ReLU(inplace=True)\n",
       "    (14): MaxPool2d(kernel_size=2, stride=2, padding=0, dilation=1, ceil_mode=False)\n",
       "    (15): Conv2d(256, 512, kernel_size=(3, 3), stride=(1, 1), padding=(1, 1))\n",
       "    (16): BatchNorm2d(512, eps=1e-05, momentum=0.1, affine=True, track_running_stats=True)\n",
       "    (17): ReLU(inplace=True)\n",
       "    (18): Conv2d(512, 512, kernel_size=(3, 3), stride=(1, 1), padding=(1, 1))\n",
       "    (19): BatchNorm2d(512, eps=1e-05, momentum=0.1, affine=True, track_running_stats=True)\n",
       "    (20): ReLU(inplace=True)\n",
       "    (21): MaxPool2d(kernel_size=2, stride=2, padding=0, dilation=1, ceil_mode=False)\n",
       "    (22): Conv2d(512, 512, kernel_size=(3, 3), stride=(1, 1), padding=(1, 1))\n",
       "    (23): BatchNorm2d(512, eps=1e-05, momentum=0.1, affine=True, track_running_stats=True)\n",
       "    (24): ReLU(inplace=True)\n",
       "    (25): Conv2d(512, 512, kernel_size=(3, 3), stride=(1, 1), padding=(1, 1))\n",
       "    (26): BatchNorm2d(512, eps=1e-05, momentum=0.1, affine=True, track_running_stats=True)\n",
       "    (27): ReLU(inplace=True)\n",
       "    (28): MaxPool2d(kernel_size=2, stride=2, padding=0, dilation=1, ceil_mode=False)\n",
       "  )\n",
       "  (avgpool): AdaptiveAvgPool2d(output_size=(1, 1))\n",
       "  (classifier): Sequential(\n",
       "    (0): Linear(in_features=512, out_features=4096, bias=True)\n",
       "    (1): ReLU(inplace=True)\n",
       "    (2): Dropout(p=0.5, inplace=False)\n",
       "    (3): Linear(in_features=4096, out_features=4096, bias=True)\n",
       "    (4): ReLU(inplace=True)\n",
       "    (5): Dropout(p=0.5, inplace=False)\n",
       "    (6): Linear(in_features=4096, out_features=10, bias=True)\n",
       "  )\n",
       ")"
      ]
     },
     "execution_count": 2,
     "metadata": {},
     "output_type": "execute_result"
    }
   ],
   "source": [
    "from vgg import vgg11_bn\n",
    "vgg11 = vgg11_bn()\n",
    "vgg11.load_state_dict(torch.load('./state_dicts/vgg11_bn.pt'))\n",
    "vgg11.to(device)"
   ]
  },
  {
   "cell_type": "code",
   "execution_count": 3,
   "metadata": {
    "id": "5zTVL1FS1HA0"
   },
   "outputs": [],
   "source": [
    "## CREATING THE DATALOADER\n",
    "\n",
    "# os.chdir('/content/drive/MyDrive/Final Project/Adversarial Examples')\n",
    "\n",
    "import pickle\n",
    "\n",
    "perturbed_list = []\n",
    "pert_label_list = []\n",
    "\n",
    "for i in range(7):\n",
    "  file = open(f\"perturbed_imgs_combo_{i}.pkl\", 'rb')\n",
    "  perturbed_list.append(pickle.load(file))\n",
    "  file.close()\n",
    "\n",
    "\n",
    "  file = open(f\"labels_combo_{i}.pkl\", 'rb')\n",
    "  pert_label_list.append(pickle.load(file))\n",
    "  file.close()"
   ]
  },
  {
   "cell_type": "code",
   "execution_count": 4,
   "metadata": {
    "colab": {
     "base_uri": "https://localhost:8080/"
    },
    "id": "jOCIwnUr2fHD",
    "outputId": "4762d7cf-69ce-4a66-b1a2-a5b081fbfe71"
   },
   "outputs": [
    {
     "data": {
      "text/plain": [
       "torch.Size([50, 3, 32, 32])"
      ]
     },
     "execution_count": 4,
     "metadata": {},
     "output_type": "execute_result"
    }
   ],
   "source": [
    "perturbed_list[0][0].size()"
   ]
  },
  {
   "cell_type": "code",
   "execution_count": 5,
   "metadata": {
    "colab": {
     "base_uri": "https://localhost:8080/"
    },
    "id": "R47-AMR-zS9V",
    "outputId": "34cc24f6-fec0-4ce6-eef7-e4ffdf7d85a8"
   },
   "outputs": [
    {
     "data": {
      "text/plain": [
       "1000"
      ]
     },
     "execution_count": 5,
     "metadata": {},
     "output_type": "execute_result"
    }
   ],
   "source": [
    "len(perturbed_list[0])"
   ]
  },
  {
   "cell_type": "code",
   "execution_count": 6,
   "metadata": {
    "id": "CyIebWL81unJ"
   },
   "outputs": [],
   "source": [
    "flat_pert_imgs = []\n",
    "\n",
    "for i in range(7):\n",
    "  if type(perturbed_list[i]) is list:\n",
    "    for x, (data) in enumerate(perturbed_list[i]):\n",
    "      flat_pert_imgs.append(data)\n",
    "\n",
    "\n",
    "    "
   ]
  },
  {
   "cell_type": "code",
   "execution_count": 7,
   "metadata": {
    "colab": {
     "base_uri": "https://localhost:8080/"
    },
    "id": "hEb-js7505Aw",
    "outputId": "a49c3e78-0ed1-4fa5-eeb9-86da9bf1de3d"
   },
   "outputs": [
    {
     "data": {
      "text/plain": [
       "50"
      ]
     },
     "execution_count": 7,
     "metadata": {},
     "output_type": "execute_result"
    }
   ],
   "source": [
    "len(flat_pert_imgs[0])"
   ]
  },
  {
   "cell_type": "code",
   "execution_count": 8,
   "metadata": {
    "colab": {
     "base_uri": "https://localhost:8080/"
    },
    "id": "wp1bAK6s1AFt",
    "outputId": "c1036487-7462-4945-d71a-9965ba44d880"
   },
   "outputs": [
    {
     "data": {
      "text/plain": [
       "torch.Size([50, 3, 32, 32])"
      ]
     },
     "execution_count": 8,
     "metadata": {},
     "output_type": "execute_result"
    }
   ],
   "source": [
    "flat_pert_imgs[0].size()"
   ]
  },
  {
   "cell_type": "code",
   "execution_count": 9,
   "metadata": {
    "colab": {
     "base_uri": "https://localhost:8080/"
    },
    "id": "r6ov36XO1UMx",
    "outputId": "195cddf6-4a43-4dc0-f3b3-4e06c22268ea"
   },
   "outputs": [
    {
     "data": {
      "text/plain": [
       "7"
      ]
     },
     "execution_count": 9,
     "metadata": {},
     "output_type": "execute_result"
    }
   ],
   "source": [
    "len(pert_label_list)"
   ]
  },
  {
   "cell_type": "code",
   "execution_count": 10,
   "metadata": {
    "id": "k6Wvtv1Y1a1Q"
   },
   "outputs": [],
   "source": [
    "flat_pert_labels = []\n",
    "\n",
    "for i in range(7):\n",
    "  if type(pert_label_list[i]) is list:\n",
    "    for x, (label) in enumerate(pert_label_list[i]):\n",
    "      flat_pert_labels.append(label)"
   ]
  },
  {
   "cell_type": "code",
   "execution_count": 11,
   "metadata": {
    "colab": {
     "base_uri": "https://localhost:8080/"
    },
    "id": "QOWsJn8w1rbf",
    "outputId": "86aff65f-2eab-44d0-918b-37253a53f29a"
   },
   "outputs": [
    {
     "data": {
      "text/plain": [
       "50"
      ]
     },
     "execution_count": 11,
     "metadata": {},
     "output_type": "execute_result"
    }
   ],
   "source": [
    "len(flat_pert_labels[0])"
   ]
  },
  {
   "cell_type": "code",
   "execution_count": 12,
   "metadata": {
    "id": "DgEv7tPl2Vsi"
   },
   "outputs": [],
   "source": [
    "# To create the dataset\n",
    "\n",
    "from torch.utils.data import DataLoader, Dataset\n",
    "\n",
    "class CustomImageDataset(Dataset):\n",
    "    def __init__(self, labels, images, transform=None, target_transform=None):\n",
    "        self.labels = labels\n",
    "        self.images = images\n",
    "        self.transform = transform\n",
    "        self.target_transform = target_transform\n",
    "\n",
    "    def __len__(self):\n",
    "        return len(self.labels)\n",
    "\n",
    "    def __getitem__(self, idx):\n",
    "        label = self.labels[idx]\n",
    "        image = self.images[idx]\n",
    "        return image, label"
   ]
  },
  {
   "cell_type": "code",
   "execution_count": 13,
   "metadata": {
    "id": "UYN0Dbfa2KCJ"
   },
   "outputs": [],
   "source": [
    "full_ds = CustomImageDataset(flat_pert_labels, flat_pert_imgs)\n",
    "full_loader = torch.utils.data.DataLoader(full_ds, batch_size = 1, shuffle = True)"
   ]
  },
  {
   "cell_type": "code",
   "execution_count": 14,
   "metadata": {
    "colab": {
     "base_uri": "https://localhost:8080/"
    },
    "id": "ouz14-8H2ds_",
    "outputId": "938f1430-d2e1-47e4-eac7-f0ac2b2a017b"
   },
   "outputs": [
    {
     "name": "stdout",
     "output_type": "stream",
     "text": [
      "7000\n"
     ]
    }
   ],
   "source": [
    "print(len(full_loader.dataset))"
   ]
  },
  {
   "cell_type": "code",
   "execution_count": 15,
   "metadata": {
    "colab": {
     "base_uri": "https://localhost:8080/"
    },
    "id": "q_PSvuX22mtL",
    "outputId": "c972c697-4f6f-4d10-9ed4-88ea6c672736"
   },
   "outputs": [
    {
     "name": "stdout",
     "output_type": "stream",
     "text": [
      "7000\n"
     ]
    }
   ],
   "source": [
    "print(len(full_loader))"
   ]
  },
  {
   "cell_type": "code",
   "execution_count": 16,
   "metadata": {},
   "outputs": [
    {
     "name": "stdout",
     "output_type": "stream",
     "text": [
      "Files already downloaded and verified\n"
     ]
    }
   ],
   "source": [
    "batch_size_cifar = 50\n",
    "\n",
    "def cifar_loaders(batch_size, shuffle_test=False): \n",
    "    data_dir = './data'\n",
    "    train = datasets.CIFAR10(data_dir, train=True, download=True, \n",
    "        transform=transforms.Compose([\n",
    "            transforms.ToTensor(),\n",
    "        ]))\n",
    "    # Once you have downloaded the data by setting download=True, you can\n",
    "    # change download=True to download=False\n",
    "    test = datasets.CIFAR10(data_dir, train=False, \n",
    "        transform=transforms.Compose([transforms.ToTensor()]))\n",
    "    train_loader = torch.utils.data.DataLoader(train, batch_size=batch_size,\n",
    "        shuffle=True, pin_memory=True)\n",
    "    test_loader = torch.utils.data.DataLoader(test, batch_size=batch_size,\n",
    "        shuffle=shuffle_test, pin_memory=True)\n",
    "    return train_loader, test_loader\n",
    "\n",
    "train_cifar_loader, test_cifar_loader = cifar_loaders(batch_size_cifar)"
   ]
  },
  {
   "cell_type": "code",
   "execution_count": 17,
   "metadata": {},
   "outputs": [],
   "source": [
    "def adversarial_update(images,labels, model,loss, epsilon, step_size, n_iter):\n",
    "  delta = torch.zeros(images.size()).to(device)\n",
    "  image_mod = (images+delta)\n",
    "  for i in range(n_iter):\n",
    "    image_mod.requires_grad = True\n",
    "    preds = model(image_mod)\n",
    "    loss_val = loss(preds,labels)\n",
    "    if i == 0:\n",
    "      standard_loss = loss_val.item()\n",
    "    loss_val.backward()\n",
    "    gradient = torch.sign(image_mod.grad.data)\n",
    "    delta = delta + step_size*gradient\n",
    "    delta = delta.clamp(min=-epsilon, max=epsilon)\n",
    "    image_mod = (images+delta).clamp(min=0,max=1)\n",
    "  return (image_mod, standard_loss)"
   ]
  },
  {
   "cell_type": "code",
   "execution_count": 19,
   "metadata": {
    "colab": {
     "base_uri": "https://localhost:8080/"
    },
    "id": "yFap7fOf1FcI",
    "outputId": "f996cef3-9020-4a80-fb89-a569b319c2d0"
   },
   "outputs": [
    {
     "name": "stdout",
     "output_type": "stream",
     "text": [
      "Completing epoch:  0\n"
     ]
    },
    {
     "name": "stderr",
     "output_type": "stream",
     "text": [
      "100%|██████████| 7000/7000 [01:57<00:00, 59.72it/s]\n"
     ]
    },
    {
     "name": "stdout",
     "output_type": "stream",
     "text": [
      "Epoch completed in:  3.4485867897669475  minutes\n",
      "Epoch 0: Adversarial Loss - 0.444, Loss - 0.0\n",
      "Completing epoch:  1\n"
     ]
    },
    {
     "name": "stderr",
     "output_type": "stream",
     "text": [
      "100%|██████████| 7000/7000 [01:57<00:00, 59.73it/s]\n"
     ]
    },
    {
     "name": "stdout",
     "output_type": "stream",
     "text": [
      "Epoch completed in:  3.448859671751658  minutes\n",
      "Epoch 1: Adversarial Loss - 0.361, Loss - 0.0\n",
      "Completing epoch:  2\n"
     ]
    },
    {
     "name": "stderr",
     "output_type": "stream",
     "text": [
      "100%|██████████| 7000/7000 [01:57<00:00, 59.73it/s]\n"
     ]
    },
    {
     "name": "stdout",
     "output_type": "stream",
     "text": [
      "Epoch completed in:  3.4472189505894977  minutes\n",
      "Epoch 2: Adversarial Loss - 0.331, Loss - 0.0\n",
      "Completing epoch:  3\n"
     ]
    },
    {
     "name": "stderr",
     "output_type": "stream",
     "text": [
      "100%|██████████| 7000/7000 [01:57<00:00, 59.74it/s]\n"
     ]
    },
    {
     "name": "stdout",
     "output_type": "stream",
     "text": [
      "Epoch completed in:  3.4470033685366315  minutes\n",
      "Epoch 3: Adversarial Loss - 0.311, Loss - 0.0\n",
      "Completing epoch:  4\n"
     ]
    },
    {
     "name": "stderr",
     "output_type": "stream",
     "text": [
      "100%|██████████| 7000/7000 [01:57<00:00, 59.73it/s]\n"
     ]
    },
    {
     "name": "stdout",
     "output_type": "stream",
     "text": [
      "Epoch completed in:  3.447192211945852  minutes\n",
      "Epoch 4: Adversarial Loss - 0.295, Loss - 0.0\n",
      "Completing epoch:  5\n"
     ]
    },
    {
     "name": "stderr",
     "output_type": "stream",
     "text": [
      "100%|██████████| 7000/7000 [01:57<00:00, 59.73it/s]\n"
     ]
    },
    {
     "name": "stdout",
     "output_type": "stream",
     "text": [
      "Epoch completed in:  3.4473703066507975  minutes\n",
      "Epoch 5: Adversarial Loss - 0.282, Loss - 0.0\n",
      "Completing epoch:  6\n"
     ]
    },
    {
     "name": "stderr",
     "output_type": "stream",
     "text": [
      "100%|██████████| 7000/7000 [01:57<00:00, 59.73it/s]\n"
     ]
    },
    {
     "name": "stdout",
     "output_type": "stream",
     "text": [
      "Epoch completed in:  3.4475618759791056  minutes\n",
      "Epoch 6: Adversarial Loss - 0.268, Loss - 0.0\n",
      "Completing epoch:  7\n"
     ]
    },
    {
     "name": "stderr",
     "output_type": "stream",
     "text": [
      "100%|██████████| 7000/7000 [01:57<00:00, 59.73it/s]\n"
     ]
    },
    {
     "name": "stdout",
     "output_type": "stream",
     "text": [
      "Epoch completed in:  3.447585713863373  minutes\n",
      "Epoch 7: Adversarial Loss - 0.255, Loss - 0.0\n",
      "Completing epoch:  8\n"
     ]
    },
    {
     "name": "stderr",
     "output_type": "stream",
     "text": [
      "100%|██████████| 7000/7000 [01:57<00:00, 59.72it/s]\n"
     ]
    },
    {
     "name": "stdout",
     "output_type": "stream",
     "text": [
      "Epoch completed in:  3.4488937656084695  minutes\n",
      "Epoch 8: Adversarial Loss - 0.239, Loss - 0.0\n",
      "Completing epoch:  9\n"
     ]
    },
    {
     "name": "stderr",
     "output_type": "stream",
     "text": [
      "100%|██████████| 7000/7000 [01:57<00:00, 59.75it/s]\n"
     ]
    },
    {
     "name": "stdout",
     "output_type": "stream",
     "text": [
      "Epoch completed in:  3.4465649644533793  minutes\n",
      "Epoch 9: Adversarial Loss - 0.225, Loss - 0.0\n",
      "Completing epoch:  10\n"
     ]
    },
    {
     "name": "stderr",
     "output_type": "stream",
     "text": [
      "100%|██████████| 7000/7000 [01:57<00:00, 59.78it/s]\n"
     ]
    },
    {
     "name": "stdout",
     "output_type": "stream",
     "text": [
      "Epoch completed in:  3.4449847181638082  minutes\n",
      "Epoch 10: Adversarial Loss - 0.215, Loss - 0.0\n",
      "Completing epoch:  11\n"
     ]
    },
    {
     "name": "stderr",
     "output_type": "stream",
     "text": [
      "100%|██████████| 7000/7000 [01:57<00:00, 59.78it/s]\n"
     ]
    },
    {
     "name": "stdout",
     "output_type": "stream",
     "text": [
      "Epoch completed in:  3.445174849033356  minutes\n",
      "Epoch 11: Adversarial Loss - 0.208, Loss - 0.0\n",
      "Completing epoch:  12\n"
     ]
    },
    {
     "name": "stderr",
     "output_type": "stream",
     "text": [
      "100%|██████████| 7000/7000 [01:57<00:00, 59.77it/s]\n"
     ]
    },
    {
     "name": "stdout",
     "output_type": "stream",
     "text": [
      "Epoch completed in:  3.445517587661743  minutes\n",
      "Epoch 12: Adversarial Loss - 0.195, Loss - 0.0\n",
      "Completing epoch:  13\n"
     ]
    },
    {
     "name": "stderr",
     "output_type": "stream",
     "text": [
      "100%|██████████| 7000/7000 [01:57<00:00, 59.78it/s]\n"
     ]
    },
    {
     "name": "stdout",
     "output_type": "stream",
     "text": [
      "Epoch completed in:  3.445621184508006  minutes\n",
      "Epoch 13: Adversarial Loss - 0.192, Loss - 0.0\n",
      "Completing epoch:  14\n"
     ]
    },
    {
     "name": "stderr",
     "output_type": "stream",
     "text": [
      "100%|██████████| 7000/7000 [01:57<00:00, 59.78it/s]\n"
     ]
    },
    {
     "name": "stdout",
     "output_type": "stream",
     "text": [
      "Epoch completed in:  3.4465801239013674  minutes\n",
      "Epoch 14: Adversarial Loss - 0.185, Loss - 0.0\n",
      "Completing epoch:  15\n"
     ]
    },
    {
     "name": "stderr",
     "output_type": "stream",
     "text": [
      "100%|██████████| 7000/7000 [01:57<00:00, 59.78it/s]\n"
     ]
    },
    {
     "name": "stdout",
     "output_type": "stream",
     "text": [
      "Epoch completed in:  3.4451008598009745  minutes\n",
      "Epoch 15: Adversarial Loss - 0.174, Loss - 0.0\n",
      "Completing epoch:  16\n"
     ]
    },
    {
     "name": "stderr",
     "output_type": "stream",
     "text": [
      "100%|██████████| 7000/7000 [01:57<00:00, 59.79it/s]\n"
     ]
    },
    {
     "name": "stdout",
     "output_type": "stream",
     "text": [
      "Epoch completed in:  3.444683579603831  minutes\n",
      "Epoch 16: Adversarial Loss - 0.168, Loss - 0.0\n",
      "Completing epoch:  17\n"
     ]
    },
    {
     "name": "stderr",
     "output_type": "stream",
     "text": [
      "100%|██████████| 7000/7000 [01:57<00:00, 59.80it/s]\n"
     ]
    },
    {
     "name": "stdout",
     "output_type": "stream",
     "text": [
      "Epoch completed in:  3.4444118181864423  minutes\n",
      "Epoch 17: Adversarial Loss - 0.161, Loss - 0.0\n",
      "Completing epoch:  18\n"
     ]
    },
    {
     "name": "stderr",
     "output_type": "stream",
     "text": [
      "100%|██████████| 7000/7000 [01:57<00:00, 59.79it/s]\n"
     ]
    },
    {
     "name": "stdout",
     "output_type": "stream",
     "text": [
      "Epoch completed in:  3.4448420643806457  minutes\n",
      "Epoch 18: Adversarial Loss - 0.156, Loss - 0.0\n",
      "Completing epoch:  19\n"
     ]
    },
    {
     "name": "stderr",
     "output_type": "stream",
     "text": [
      "100%|██████████| 7000/7000 [01:57<00:00, 59.79it/s]\n"
     ]
    },
    {
     "name": "stdout",
     "output_type": "stream",
     "text": [
      "Epoch completed in:  3.444656201203664  minutes\n",
      "Epoch 19: Adversarial Loss - 0.152, Loss - 0.0\n",
      "Completing epoch:  20\n"
     ]
    },
    {
     "name": "stderr",
     "output_type": "stream",
     "text": [
      "100%|██████████| 7000/7000 [01:57<00:00, 59.74it/s]\n"
     ]
    },
    {
     "name": "stdout",
     "output_type": "stream",
     "text": [
      "Epoch completed in:  3.446317942937215  minutes\n",
      "Epoch 20: Adversarial Loss - 0.148, Loss - 0.0\n",
      "Completing epoch:  21\n"
     ]
    },
    {
     "name": "stderr",
     "output_type": "stream",
     "text": [
      "100%|██████████| 7000/7000 [01:57<00:00, 59.71it/s]\n"
     ]
    },
    {
     "name": "stdout",
     "output_type": "stream",
     "text": [
      "Epoch completed in:  3.448064080874125  minutes\n",
      "Epoch 21: Adversarial Loss - 0.143, Loss - 0.0\n",
      "Completing epoch:  22\n"
     ]
    },
    {
     "name": "stderr",
     "output_type": "stream",
     "text": [
      "100%|██████████| 7000/7000 [01:57<00:00, 59.72it/s]\n"
     ]
    },
    {
     "name": "stdout",
     "output_type": "stream",
     "text": [
      "Epoch completed in:  3.44717652797699  minutes\n",
      "Epoch 22: Adversarial Loss - 0.14, Loss - 0.0\n",
      "Completing epoch:  23\n"
     ]
    },
    {
     "name": "stderr",
     "output_type": "stream",
     "text": [
      "100%|██████████| 7000/7000 [01:57<00:00, 59.71it/s]\n"
     ]
    },
    {
     "name": "stdout",
     "output_type": "stream",
     "text": [
      "Epoch completed in:  3.44740758339564  minutes\n",
      "Epoch 23: Adversarial Loss - 0.139, Loss - 0.0\n",
      "Completing epoch:  24\n"
     ]
    },
    {
     "name": "stderr",
     "output_type": "stream",
     "text": [
      "100%|██████████| 7000/7000 [01:57<00:00, 59.72it/s]\n"
     ]
    },
    {
     "name": "stdout",
     "output_type": "stream",
     "text": [
      "Epoch completed in:  3.4465004483858745  minutes\n",
      "Epoch 24: Adversarial Loss - 0.133, Loss - 0.0\n",
      "Completing epoch:  25\n"
     ]
    },
    {
     "name": "stderr",
     "output_type": "stream",
     "text": [
      "100%|██████████| 7000/7000 [01:57<00:00, 59.72it/s]\n"
     ]
    },
    {
     "name": "stdout",
     "output_type": "stream",
     "text": [
      "Epoch completed in:  3.4468124866485597  minutes\n",
      "Epoch 25: Adversarial Loss - 0.127, Loss - 0.0\n",
      "Completing epoch:  26\n"
     ]
    },
    {
     "name": "stderr",
     "output_type": "stream",
     "text": [
      "100%|██████████| 7000/7000 [01:57<00:00, 59.72it/s]\n"
     ]
    },
    {
     "name": "stdout",
     "output_type": "stream",
     "text": [
      "Epoch completed in:  3.446265653769175  minutes\n",
      "Epoch 26: Adversarial Loss - 0.123, Loss - 0.0\n",
      "Completing epoch:  27\n"
     ]
    },
    {
     "name": "stderr",
     "output_type": "stream",
     "text": [
      "100%|██████████| 7000/7000 [01:57<00:00, 59.71it/s]\n"
     ]
    },
    {
     "name": "stdout",
     "output_type": "stream",
     "text": [
      "Epoch completed in:  3.44640851020813  minutes\n",
      "Epoch 27: Adversarial Loss - 0.121, Loss - 0.0\n",
      "Completing epoch:  28\n"
     ]
    },
    {
     "name": "stderr",
     "output_type": "stream",
     "text": [
      "100%|██████████| 7000/7000 [01:57<00:00, 59.72it/s]\n"
     ]
    },
    {
     "name": "stdout",
     "output_type": "stream",
     "text": [
      "Epoch completed in:  3.4472744941711424  minutes\n",
      "Epoch 28: Adversarial Loss - 0.117, Loss - 0.0\n",
      "Completing epoch:  29\n"
     ]
    },
    {
     "name": "stderr",
     "output_type": "stream",
     "text": [
      "100%|██████████| 7000/7000 [01:57<00:00, 59.72it/s]\n"
     ]
    },
    {
     "name": "stdout",
     "output_type": "stream",
     "text": [
      "Epoch completed in:  3.4461735526720685  minutes\n",
      "Epoch 29: Adversarial Loss - 0.114, Loss - 0.0\n",
      "Completing epoch:  30\n"
     ]
    },
    {
     "name": "stderr",
     "output_type": "stream",
     "text": [
      "100%|██████████| 7000/7000 [01:57<00:00, 59.72it/s]\n"
     ]
    },
    {
     "name": "stdout",
     "output_type": "stream",
     "text": [
      "Epoch completed in:  3.446364462375641  minutes\n",
      "Epoch 30: Adversarial Loss - 0.112, Loss - 0.0\n",
      "Completing epoch:  31\n"
     ]
    },
    {
     "name": "stderr",
     "output_type": "stream",
     "text": [
      "100%|██████████| 7000/7000 [01:57<00:00, 59.71it/s]\n"
     ]
    },
    {
     "name": "stdout",
     "output_type": "stream",
     "text": [
      "Epoch completed in:  3.446285839875539  minutes\n",
      "Epoch 31: Adversarial Loss - 0.111, Loss - 0.0\n"
     ]
    },
    {
     "data": {
      "text/plain": [
       "<All keys matched successfully>"
      ]
     },
     "execution_count": 19,
     "metadata": {},
     "output_type": "execute_result"
    }
   ],
   "source": [
    "# os.chdir('/content/drive/MyDrive/Final Project/models/state_dicts')\n",
    "from tqdm import tqdm\n",
    "import time\n",
    "\n",
    "vgg11_adv_ens = vgg11_bn()\n",
    "vgg11_adv_ens.load_state_dict(torch.load('./state_dicts/vgg11_bn.pt'))\n",
    "vgg11_adv_ens.to(device)\n",
    "\n",
    "criterion = nn.CrossEntropyLoss()\n",
    "optimizer = optim.Adam(vgg11_adv_ens.parameters(),lr=1e-5)\n",
    "num_epochs = 32\n",
    "\n",
    "loss_standard = np.zeros(num_epochs)\n",
    "loss_adv = np.zeros(num_epochs)\n",
    "\n",
    "for i in range(num_epochs):\n",
    "  start = time.time()\n",
    "  running_loss_adv = 0\n",
    "  running_loss = 0\n",
    "  print(\"Completing epoch: \", i)\n",
    "  for batch, (data, labels) in enumerate(train_cifar_loader):\n",
    "    data = data.to(device)\n",
    "    labels = labels.to(device)\n",
    "    optimizer.zero_grad()\n",
    "    data_mod, standard_loss = adversarial_update(data,labels, vgg11_adv_ens,criterion, epsilon=.0625, step_size=.01, n_iter=7)\n",
    "    running_loss += standard_loss\n",
    "    preds = vgg11_adv_ens(data_mod)\n",
    "    loss = criterion(preds, labels)\n",
    "    loss.backward()\n",
    "    optimizer.step()\n",
    "    running_loss_adv += loss.item()\n",
    "    batches = batch+1\n",
    "  for batch, (data, labels) in enumerate(tqdm(full_ds)):\n",
    "    # print(\"Batch #\")\n",
    "    data = data.to(device)\n",
    "    labels = labels.to(device)\n",
    "    optimizer.zero_grad()\n",
    "    preds = vgg11_adv_ens(data)\n",
    "    loss = criterion(preds, labels)\n",
    "    loss.backward()\n",
    "    optimizer.step()\n",
    "    running_loss_adv += loss.item()\n",
    "    batches = batches+1\n",
    "  #loss_standard[i] = running_loss/batches\n",
    "  loss_adv[i] = running_loss_adv/batches\n",
    "  end = time.time()\n",
    "  print(\"Epoch completed in: \", (end - start)/60, \" minutes\" )\n",
    "  print(\"Epoch \"+str(i)+\": Adversarial Loss - \"+str(round(loss_adv[i],3))+\", Loss - \"+str(round(loss_standard[i],3)))\n",
    "torch.save(vgg11_adv_ens.state_dict(), \"./state_dicts/vgg11_adv_ens_4.pt\")\n",
    "vgg11_adv_ens.load_state_dict(torch.load( \"./state_dicts/vgg11_adv_ens_4.pt\"))"
   ]
  }
 ],
 "metadata": {
  "accelerator": "GPU",
  "colab": {
   "provenance": []
  },
  "gpuClass": "standard",
  "kernelspec": {
   "display_name": "Python 3 (ipykernel)",
   "language": "python",
   "name": "python3"
  },
  "language_info": {
   "codemirror_mode": {
    "name": "ipython",
    "version": 3
   },
   "file_extension": ".py",
   "mimetype": "text/x-python",
   "name": "python",
   "nbconvert_exporter": "python",
   "pygments_lexer": "ipython3",
   "version": "3.9.7"
  }
 },
 "nbformat": 4,
 "nbformat_minor": 4
}
